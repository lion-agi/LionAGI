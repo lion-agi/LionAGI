{
 "cells": [
  {
   "cell_type": "code",
   "execution_count": 1,
   "metadata": {},
   "outputs": [],
   "source": [
    "flash2_think_config = {\n",
    "    \"provider\": \"gemini\",\n",
    "    \"model\": \"gemini-2.0-flash-thinking-exp\",\n",
    "    \"limit_requests\": 10,\n",
    "    \"limit_tokens\": 1_000_000,\n",
    "    \"tools\": \"code_execution\",\n",
    "    \"api_key\": \"GEMINI_API_KEY\"\n",
    "}"
   ]
  },
  {
   "cell_type": "code",
   "execution_count": 2,
   "metadata": {},
   "outputs": [],
   "source": [
    "from lionagi import iModel, Branch\n",
    "\n",
    "flash2_think = iModel(**flash2_think_config)"
   ]
  },
  {
   "cell_type": "code",
   "execution_count": 3,
   "metadata": {},
   "outputs": [],
   "source": [
    "msgs = [{\"role\": \"user\", \"content\": \"Hello, World\"}]"
   ]
  },
  {
   "cell_type": "code",
   "execution_count": 4,
   "metadata": {},
   "outputs": [
    {
     "name": "stderr",
     "output_type": "stream",
     "text": [
      "\u001b[92m03:50:52 - LiteLLM:ERROR\u001b[0m: vertex_llm_base.py:279 - Failed to load vertex credentials. Check to see if credentials containing partial/invalid information.\n",
      "Traceback (most recent call last):\n",
      "  File \"/Users/lion/lionagi/.venv/lib/python3.10/site-packages/litellm/llms/vertex_ai/vertex_llm_base.py\", line 275, in _ensure_access_token_async\n",
      "    self._credentials, cred_project_id = await asyncify(self.load_auth)(\n",
      "  File \"/Users/lion/lionagi/.venv/lib/python3.10/site-packages/litellm/litellm_core_utils/asyncify.py\", line 57, in wrapper\n",
      "    return await anyio.to_thread.run_sync(\n",
      "  File \"/Users/lion/lionagi/.venv/lib/python3.10/site-packages/anyio/to_thread.py\", line 56, in run_sync\n",
      "    return await get_async_backend().run_sync_in_worker_thread(\n",
      "  File \"/Users/lion/lionagi/.venv/lib/python3.10/site-packages/anyio/_backends/_asyncio.py\", line 2461, in run_sync_in_worker_thread\n",
      "    return await future\n",
      "  File \"/Users/lion/lionagi/.venv/lib/python3.10/site-packages/anyio/_backends/_asyncio.py\", line 962, in run\n",
      "    result = context.run(func, *args)\n",
      "  File \"/Users/lion/lionagi/.venv/lib/python3.10/site-packages/litellm/llms/vertex_ai/vertex_llm_base.py\", line 91, in load_auth\n",
      "    creds.refresh(Request())  # type: ignore\n",
      "  File \"/Users/lion/lionagi/.venv/lib/python3.10/site-packages/google/oauth2/credentials.py\", line 409, in refresh\n",
      "    ) = reauth.refresh_grant(\n",
      "  File \"/Users/lion/lionagi/.venv/lib/python3.10/site-packages/google/oauth2/reauth.py\", line 366, in refresh_grant\n",
      "    _client._handle_error_response(response_data, retryable_error)\n",
      "  File \"/Users/lion/lionagi/.venv/lib/python3.10/site-packages/google/oauth2/_client.py\", line 69, in _handle_error_response\n",
      "    raise exceptions.RefreshError(\n",
      "google.auth.exceptions.RefreshError: ('invalid_grant: Bad Request', {'error': 'invalid_grant', 'error_description': 'Bad Request'})\n",
      "ERROR:root:API call to https://generativelanguage.googleapis.com/v1beta/models/{model}/generateContent?key=${api_key} failed: litellm.APIConnectionError: ('invalid_grant: Bad Request', {'error': 'invalid_grant', 'error_description': 'Bad Request'})\n",
      "Traceback (most recent call last):\n",
      "  File \"/Users/lion/lionagi/.venv/lib/python3.10/site-packages/litellm/main.py\", line 463, in acompletion\n",
      "    response = await init_response\n",
      "  File \"/Users/lion/lionagi/.venv/lib/python3.10/site-packages/litellm/llms/vertex_ai/gemini/vertex_and_google_ai_studio_gemini.py\", line 1030, in async_completion\n",
      "    _auth_header, vertex_project = await self._ensure_access_token_async(\n",
      "  File \"/Users/lion/lionagi/.venv/lib/python3.10/site-packages/litellm/llms/vertex_ai/vertex_llm_base.py\", line 275, in _ensure_access_token_async\n",
      "    self._credentials, cred_project_id = await asyncify(self.load_auth)(\n",
      "  File \"/Users/lion/lionagi/.venv/lib/python3.10/site-packages/litellm/litellm_core_utils/asyncify.py\", line 57, in wrapper\n",
      "    return await anyio.to_thread.run_sync(\n",
      "  File \"/Users/lion/lionagi/.venv/lib/python3.10/site-packages/anyio/to_thread.py\", line 56, in run_sync\n",
      "    return await get_async_backend().run_sync_in_worker_thread(\n",
      "  File \"/Users/lion/lionagi/.venv/lib/python3.10/site-packages/anyio/_backends/_asyncio.py\", line 2461, in run_sync_in_worker_thread\n",
      "    return await future\n",
      "  File \"/Users/lion/lionagi/.venv/lib/python3.10/site-packages/anyio/_backends/_asyncio.py\", line 962, in run\n",
      "    result = context.run(func, *args)\n",
      "  File \"/Users/lion/lionagi/.venv/lib/python3.10/site-packages/litellm/llms/vertex_ai/vertex_llm_base.py\", line 91, in load_auth\n",
      "    creds.refresh(Request())  # type: ignore\n",
      "  File \"/Users/lion/lionagi/.venv/lib/python3.10/site-packages/google/oauth2/credentials.py\", line 409, in refresh\n",
      "    ) = reauth.refresh_grant(\n",
      "  File \"/Users/lion/lionagi/.venv/lib/python3.10/site-packages/google/oauth2/reauth.py\", line 366, in refresh_grant\n",
      "    _client._handle_error_response(response_data, retryable_error)\n",
      "  File \"/Users/lion/lionagi/.venv/lib/python3.10/site-packages/google/oauth2/_client.py\", line 69, in _handle_error_response\n",
      "    raise exceptions.RefreshError(\n",
      "google.auth.exceptions.RefreshError: ('invalid_grant: Bad Request', {'error': 'invalid_grant', 'error_description': 'Bad Request'})\n",
      "\n"
     ]
    },
    {
     "name": "stdout",
     "output_type": "stream",
     "text": [
      "\n",
      "\u001b[1;31mGive Feedback / Get Help: https://github.com/BerriAI/litellm/issues/new\u001b[0m\n",
      "LiteLLM.Info: If you need to debug this error, use `litellm._turn_on_debug()'.\n",
      "\n"
     ]
    }
   ],
   "source": [
    "a = await flash2_think.invoke(messages=msgs)"
   ]
  },
  {
   "cell_type": "code",
   "execution_count": 5,
   "metadata": {},
   "outputs": [
    {
     "data": {
      "text/plain": [
       "APICalling(id=f937feca-22b5-4051-bc09-f4237c3506b5, status=failed, duration=5.49561741600337, response=None, error=litellm.APIConnectionError: ('invalid_grant: Bad Request', {'error': 'invalid_grant', 'error_description': 'Bad Request'})\n",
       "Traceback (most recent call last):\n",
       "  File \"/Users/lion/lionagi/.venv/lib/python3.10/site-packages/litellm/main.py\", line 463, in acompletion\n",
       "    response = await init_response\n",
       "  File \"/Users/lion/lionagi/.venv/lib/python3.10/site-packages/litellm/llms/vertex_ai/gemini/vertex_and_google_ai_studio_gemini.py\", line 1030, in async_completion\n",
       "    _auth_header, vertex_project = await self._ensure_access_token_async(\n",
       "  File \"/Users/lion/lionagi/.venv/lib/python3.10/site-packages/litellm/llms/vertex_ai/vertex_llm_base.py\", line 275, in _ensure_access_token_async\n",
       "    self._credentials, cred_project_id = await asyncify(self.load_auth)(\n",
       "  File \"/Users/lion/lionagi/.venv/lib/python3.10/site-packages/litellm/litellm_core_utils/asyncify.py\", line 57, in wrapper\n",
       "    return await anyio.to_thread.run_sync(\n",
       "  File \"/Users/lion/lionagi/.venv/lib/python3.10/site-packages/anyio/to_thread.py\", line 56, in run_sync\n",
       "    return await get_async_backend().run_sync_in_worker_thread(\n",
       "  File \"/Users/lion/lionagi/.venv/lib/python3.10/site-packages/anyio/_backends/_asyncio.py\", line 2461, in run_sync_in_worker_thread\n",
       "    return await future\n",
       "  File \"/Users/lion/lionagi/.venv/lib/python3.10/site-packages/anyio/_backends/_asyncio.py\", line 962, in run\n",
       "    result = context.run(func, *args)\n",
       "  File \"/Users/lion/lionagi/.venv/lib/python3.10/site-packages/litellm/llms/vertex_ai/vertex_llm_base.py\", line 91, in load_auth\n",
       "    creds.refresh(Request())  # type: ignore\n",
       "  File \"/Users/lion/lionagi/.venv/lib/python3.10/site-packages/google/oauth2/credentials.py\", line 409, in refresh\n",
       "    ) = reauth.refresh_grant(\n",
       "  File \"/Users/lion/lionagi/.venv/lib/python3.10/site-packages/google/oauth2/reauth.py\", line 366, in refresh_grant\n",
       "    _client._handle_error_response(response_data, retryable_error)\n",
       "  File \"/Users/lion/lionagi/.venv/lib/python3.10/site-packages/google/oauth2/_client.py\", line 69, in _handle_error_response\n",
       "    raise exceptions.RefreshError(\n",
       "google.auth.exceptions.RefreshError: ('invalid_grant: Bad Request', {'error': 'invalid_grant', 'error_description': 'Bad Request'})\n",
       ")"
      ]
     },
     "execution_count": 5,
     "metadata": {},
     "output_type": "execute_result"
    }
   ],
   "source": [
    "a"
   ]
  }
 ],
 "metadata": {
  "kernelspec": {
   "display_name": ".venv",
   "language": "python",
   "name": "python3"
  },
  "language_info": {
   "codemirror_mode": {
    "name": "ipython",
    "version": 3
   },
   "file_extension": ".py",
   "mimetype": "text/x-python",
   "name": "python",
   "nbconvert_exporter": "python",
   "pygments_lexer": "ipython3",
   "version": "3.10.16"
  }
 },
 "nbformat": 4,
 "nbformat_minor": 2
}
