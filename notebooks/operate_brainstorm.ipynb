{
 "cells": [
  {
   "cell_type": "code",
   "execution_count": 1,
   "metadata": {},
   "outputs": [],
   "source": [
    "instruction = \"Concisely, Give me some ideas on fastapi coding questions\"\n",
    "context = \"we are hiring software engineers\""
   ]
  },
  {
   "cell_type": "code",
   "execution_count": 2,
   "metadata": {},
   "outputs": [
    {
     "data": {
      "text/markdown": [
       "Certainly! Here are some FastAPI coding questions that you can use to assess the skills of software engineer candidates:\n",
       "\n",
       "1. **Basic Endpoint Creation:**\n",
       "   - Create a simple FastAPI application with a single GET endpoint that returns a JSON response with a greeting message.\n",
       "\n",
       "2. **Path and Query Parameters:**\n",
       "   - Develop an endpoint that accepts a path parameter and a query parameter. The path parameter should be a username, and the query parameter should be an optional age. Return a personalized greeting message based on these parameters.\n",
       "\n",
       "3. **Data Validation with Pydantic:**\n",
       "   - Design a POST endpoint that accepts a JSON payload representing a user profile (e.g., name, email, age). Use Pydantic models to validate the input data and return a success message if the data is valid.\n",
       "\n",
       "4. **Dependency Injection:**\n",
       "   - Implement a FastAPI endpoint that uses dependency injection to access a mock database connection. Demonstrate how to use this dependency in the endpoint to fetch and return data.\n",
       "\n",
       "5. **Error Handling:**\n",
       "   - Create an endpoint that raises a custom HTTPException when a certain condition is met (e.g., if a required query parameter is missing). Show how to handle this exception and return a meaningful error response.\n",
       "\n",
       "6. **Middleware Implementation:**\n",
       "   - Write a middleware function that logs the details of each incoming request (e.g., method, URL, and timestamp) and demonstrate its integration into a FastAPI application.\n",
       "\n",
       "7. **Background Tasks:**\n",
       "   - Develop an endpoint that triggers a background task to send an email notification. Use FastAPI's `BackgroundTasks` to handle the asynchronous execution of this task.\n",
       "\n",
       "8. **File Upload:**\n",
       "   - Create an endpoint that allows users to upload a file. Validate the file type and size, and return a response indicating whether the upload was successful.\n",
       "\n",
       "9. **Authentication and Authorization:**\n",
       "   - Implement a basic authentication mechanism using OAuth2 with password flow. Create a protected endpoint that requires a valid token to access.\n",
       "\n",
       "10. **WebSocket Communication:**\n",
       "    - Set up a WebSocket endpoint that allows clients to connect and receive real-time updates. Demonstrate how to send messages to connected clients.\n",
       "\n",
       "These questions cover a range of FastAPI features and can help evaluate a candidate's understanding of the framework and their ability to implement practical solutions."
      ],
      "text/plain": [
       "<IPython.core.display.Markdown object>"
      ]
     },
     "execution_count": 2,
     "metadata": {},
     "output_type": "execute_result"
    }
   ],
   "source": [
    "from IPython.display import Markdown\n",
    "from lionagi import LiteiModel, Branch\n",
    "\n",
    "imodel = LiteiModel(\n",
    "    model=\"openai/gpt-4o\",\n",
    "    api_key=\"OPENAI_API_KEY\",\n",
    "    temperature=0.2,\n",
    ")\n",
    "\n",
    "# create a branch\n",
    "branch = Branch(imodel=imodel)\n",
    "\n",
    "# communicate with AI models\n",
    "result = await branch.communicate(instruction=instruction, context=context)\n",
    "\n",
    "Markdown(result)"
   ]
  },
  {
   "cell_type": "code",
   "execution_count": 3,
   "metadata": {},
   "outputs": [],
   "source": [
    "from pydantic import BaseModel\n",
    "\n",
    "\n",
    "class CodingQuestion(BaseModel):\n",
    "    question: str\n",
    "    evaluation_criteria: str"
   ]
  },
  {
   "cell_type": "code",
   "execution_count": 4,
   "metadata": {},
   "outputs": [
    {
     "data": {
      "text/markdown": [
       "```json\n",
       "{\n",
       "    \"question\": \"Create a FastAPI application with a single GET endpoint that returns a JSON response with a greeting message.\",\n",
       "    \"evaluation_criteria\": \"Evaluate the candidate's ability to set up a basic FastAPI application, define routes, and return JSON responses.\",\n",
       "    \"reason\": {\n",
       "        \"title\": \"Basic Understanding\",\n",
       "        \"content\": \"This question assesses the candidate's fundamental understanding of FastAPI and their ability to create a simple endpoint.\",\n",
       "        \"confidence_score\": 0.95\n",
       "    }\n",
       "}\n",
       "\n",
       "{\n",
       "    \"question\": \"Develop an endpoint that accepts a path parameter for a username and an optional query parameter for age, returning a personalized greeting.\",\n",
       "    \"evaluation_criteria\": \"Assess the candidate's ability to handle path and query parameters and return dynamic responses based on input.\",\n",
       "    \"reason\": {\n",
       "        \"title\": \"Parameter Handling\",\n",
       "        \"content\": \"This question tests the candidate's skills in managing different types of parameters in FastAPI.\",\n",
       "        \"confidence_score\": 0.9\n",
       "    }\n",
       "}\n",
       "\n",
       "{\n",
       "    \"question\": \"Design a POST endpoint that accepts a JSON payload representing a user profile and uses Pydantic models for validation.\",\n",
       "    \"evaluation_criteria\": \"Evaluate the candidate's proficiency with Pydantic for data validation and their ability to handle POST requests.\",\n",
       "    \"reason\": {\n",
       "        \"title\": \"Data Validation\",\n",
       "        \"content\": \"This question checks the candidate's understanding of data validation using Pydantic models in FastAPI.\",\n",
       "        \"confidence_score\": 0.92\n",
       "    }\n",
       "}\n",
       "\n",
       "{\n",
       "    \"question\": \"Implement a FastAPI endpoint that uses dependency injection to access a mock database connection.\",\n",
       "    \"evaluation_criteria\": \"Assess the candidate's understanding of dependency injection in FastAPI and their ability to integrate it with endpoints.\",\n",
       "    \"reason\": {\n",
       "        \"title\": \"Dependency Injection\",\n",
       "        \"content\": \"This question evaluates the candidate's knowledge of using dependency injection to manage resources in FastAPI.\",\n",
       "        \"confidence_score\": 0.88\n",
       "    }\n",
       "}\n",
       "\n",
       "{\n",
       "    \"question\": \"Create an endpoint that raises a custom HTTPException when a required query parameter is missing.\",\n",
       "    \"evaluation_criteria\": \"Evaluate the candidate's ability to handle exceptions and return meaningful error responses in FastAPI.\",\n",
       "    \"reason\": {\n",
       "        \"title\": \"Error Handling\",\n",
       "        \"content\": \"This question tests the candidate's skills in managing exceptions and providing user-friendly error messages.\",\n",
       "        \"confidence_score\": 0.9\n",
       "    }\n",
       "}\n",
       "```"
      ],
      "text/plain": [
       "<IPython.core.display.Markdown object>"
      ]
     },
     "execution_count": 4,
     "metadata": {},
     "output_type": "execute_result"
    }
   ],
   "source": [
    "from lionagi.libs.parse import as_readable\n",
    "\n",
    "result = await branch.operate(\n",
    "    instruction=instruction,\n",
    "    context=context,\n",
    "    operative_model=CodingQuestion,\n",
    "    reason=True,\n",
    ")\n",
    "\n",
    "Markdown(as_readable(result, md=True))"
   ]
  },
  {
   "cell_type": "code",
   "execution_count": 5,
   "metadata": {},
   "outputs": [
    {
     "name": "stdout",
     "output_type": "stream",
     "text": [
      "Starting brainstorming...\n",
      "Initial brainstorming complete.\n",
      "\n",
      "-----Running instruction-----\n",
      "Stick to fundamental FastAPI concepts like path operations. Consider using a Pydantic model for resp...\n",
      "\n",
      "-----Running instruction-----\n",
      "Use FastAPI and uvicorn packages to construct and run the application. Ensure code readability and p...\n",
      "\n",
      "-----Running instruction-----\n",
      "Use basic FastAPI setup practices. Consider applying a Pydantic model for structure and validation, ...\n",
      "\n",
      "-----Running instruction-----\n",
      "Utilize FastAPI for building the endpoint and uvicorn to serve the application. Emphasize using mean...\n",
      "\n",
      "-----Exploring Idea-----\n",
      "Utilize FastAPI for building the endpoint and uvicorn to serve the application. Emphasize using mean...\n",
      "\n",
      "-----Exploring Idea-----\n",
      "Use FastAPI to define your endpoint and uvicorn to run the server. Prioritize clear variable naming ...\n",
      "\n",
      "-----Exploring Idea-----\n",
      "Use basic FastAPI setup practices. Consider applying a Pydantic model for structure and validation, ...\n",
      "\n",
      "-----Exploring Idea-----\n",
      "Stick to fundamental FastAPI concepts like path operations. Consider using a Pydantic model for resp...\n",
      "\n",
      "-----Exploring Idea-----\n",
      "Use FastAPI and uvicorn packages to construct and run the application. Ensure code readability and p...\n",
      "\n",
      "-----Exploring Idea-----\n",
      "Follow best practices for FastAPI setup. Optionally, use a Pydantic model for response structure and...\n"
     ]
    }
   ],
   "source": [
    "from lionagi.operations import brainstorm\n",
    "\n",
    "instruct = {\n",
    "    \"instruction\": instruction,\n",
    "    \"context\": context,\n",
    "}\n",
    "\n",
    "result = await brainstorm(\n",
    "    instruct=instruct,\n",
    "    num_instruct=2,\n",
    "    operative_model=CodingQuestion,\n",
    "    auto_run=True,\n",
    "    invoke_action=False,\n",
    "    verbose=True,\n",
    "    auto_explore=True,\n",
    "    reason=True,\n",
    "    explore_strategy=\"concurrent\",\n",
    ")"
   ]
  },
  {
   "cell_type": "code",
   "execution_count": 6,
   "metadata": {},
   "outputs": [
    {
     "data": {
      "text/markdown": [
       "```json\n",
       "{\n",
       "    \"question\": \"How can you create a simple FastAPI application with one endpoint that returns a JSON object on a GET request?\",\n",
       "    \"evaluation_criteria\": \"Assess the clarity of the code, the correct use of FastAPI modules, and the ability to successfully run the server and retrieve the expected JSON response.\",\n",
       "    \"instruct_models\": [\n",
       "        {\n",
       "            \"instruction\": \"Develop a FastAPI application featuring a single GET endpoint at '/item'. Ensure it returns a JSON object containing at least one key-value pair. The objective is to demonstrate basic understanding and setup of FastAPI, including route creation and JSON response formation.\",\n",
       "            \"guidance\": \"Use FastAPI and uvicorn packages to construct and run the application. Ensure code readability and proper commenting. Focus on accurate import statements and endpoint definition. Ensure the server starts without issues and correctly serves the JSON response to a client request.\",\n",
       "            \"context\": null\n",
       "        },\n",
       "        {\n",
       "            \"instruction\": \"Create a FastAPI application with a single GET endpoint that returns product details. Return a JSON with 'product_id' and 'name'. Goal is to establish basic FastAPI capabilities, ensuring the endpoint is reachable and responding as expected.\",\n",
       "            \"guidance\": \"Stick to fundamental FastAPI concepts like path operations. Consider using a Pydantic model for response consistency, if applicable. Ensure code execution is smooth, with endpoint returning JSON on client requests without errors.\",\n",
       "            \"context\": null\n",
       "        }\n",
       "    ],\n",
       "    \"reason\": {\n",
       "        \"title\": \"Instruction Development\",\n",
       "        \"content\": \"The proposed instructions focus on core FastAPI features, which are essential for someone new to the framework. Both approaches ensure a hands-on experience in creating endpoints and handling JSON in the application. Adhering to these instructions fosters confidence in building FastAPI applications.\",\n",
       "        \"confidence_score\": 0.9\n",
       "    }\n",
       "}\n",
       "```"
      ],
      "text/plain": [
       "<IPython.core.display.Markdown object>"
      ]
     },
     "execution_count": 6,
     "metadata": {},
     "output_type": "execute_result"
    }
   ],
   "source": [
    "Markdown(as_readable(result.initial, md=True))"
   ]
  },
  {
   "cell_type": "code",
   "execution_count": 7,
   "metadata": {},
   "outputs": [
    {
     "data": {
      "text/markdown": [
       "```json\n",
       "{\n",
       "    \"question\": \"How can you create a simple FastAPI application with one endpoint that returns a JSON object on a GET request?\",\n",
       "    \"evaluation_criteria\": \"Assess the clarity of the code, the correct use of FastAPI modules, and the ability to successfully run the server and retrieve the expected JSON response.\",\n",
       "    \"instruct_models\": [\n",
       "        {\n",
       "            \"instruction\": \"Develop a FastAPI application featuring a single GET endpoint at '/item'. Ensure it returns a JSON object containing at least one key-value pair. The objective is to demonstrate basic understanding and setup of FastAPI, including route creation and JSON response formation.\",\n",
       "            \"guidance\": \"Use FastAPI and uvicorn packages to construct and run the application. Ensure code readability and proper commenting. Focus on accurate import statements and endpoint definition. Ensure the server starts without issues and correctly serves the JSON response to a client request.\",\n",
       "            \"context\": null\n",
       "        },\n",
       "        {\n",
       "            \"instruction\": \"Create a FastAPI application with a single GET endpoint that returns product details. Return a JSON with 'product_id' and 'name'. Goal is to establish basic FastAPI capabilities, ensuring the endpoint is reachable and responding as expected.\",\n",
       "            \"guidance\": \"Stick to fundamental FastAPI concepts like path operations. Consider using a Pydantic model for response consistency, if applicable. Ensure code execution is smooth, with endpoint returning JSON on client requests without errors.\",\n",
       "            \"context\": null\n",
       "        }\n",
       "    ],\n",
       "    \"reason\": {\n",
       "        \"title\": \"Instruction Development\",\n",
       "        \"content\": \"The proposed instructions focus on core FastAPI features, which are essential for someone new to the framework. Both approaches ensure a hands-on experience in creating endpoints and handling JSON in the application. Adhering to these instructions fosters confidence in building FastAPI applications.\",\n",
       "        \"confidence_score\": 0.9\n",
       "    }\n",
       "}\n",
       "```"
      ],
      "text/plain": [
       "<IPython.core.display.Markdown object>"
      ]
     },
     "metadata": {},
     "output_type": "display_data"
    },
    {
     "data": {
      "text/markdown": [
       "```json\n",
       "{\n",
       "    \"question\": \"How can you create a FastAPI application with a single GET endpoint that returns a static JSON response?\",\n",
       "    \"evaluation_criteria\": \"The solution should be assessed on its correctness in setting up the FastAPI application, proper use of the FastAPI syntax for route creation, code clarity, and ability to handle a GET request to return the specified JSON object.\",\n",
       "    \"instruct_models\": [\n",
       "        {\n",
       "            \"instruction\": \"Create a FastAPI application. Add a single GET endpoint at '/item' that returns a JSON response with the key 'item_name' and a corresponding value of your choice. The goal is to practice the basic FastAPI framework setup and HTTP method handling.\",\n",
       "            \"guidance\": \"Utilize FastAPI for building the endpoint and uvicorn to serve the application. Emphasize using meaningful variable names and concise comments for each step. Debug and ensure there are no issues with running the server and obtaining the JSON on a GET request.\",\n",
       "            \"context\": null\n",
       "        }\n",
       "    ],\n",
       "    \"reason\": {\n",
       "        \"title\": \"Objective Clarity\",\n",
       "        \"content\": \"This task focuses on teaching the basics of FastAPI, including endpoint creation and server operation, through practical implementation. The concise objective allows for easy assessment of the candidate's fundamental skills in API development.\",\n",
       "        \"confidence_score\": 0.95\n",
       "    }\n",
       "}\n",
       "```"
      ],
      "text/plain": [
       "<IPython.core.display.Markdown object>"
      ]
     },
     "metadata": {},
     "output_type": "display_data"
    },
    {
     "data": {
      "text/markdown": [
       "```json\n",
       "{\n",
       "    \"question\": \"How do you set up a basic FastAPI application with a GET endpoint that returns a JSON object?\",\n",
       "    \"evaluation_criteria\": \"Evaluate the implementation's correctness in terms of FastAPI setup, URL endpoint definition, JSON response accuracy, code readability, and server stability.\",\n",
       "    \"instruct_models\": [\n",
       "        {\n",
       "            \"instruction\": \"Set up a FastAPI application and create a GET endpoint at '/item'. Ensure it returns a JSON object containing {'item_name': 'Sample Item'} as the response. Verify the endpoint is functioning properly.\",\n",
       "            \"guidance\": \"Use FastAPI to define your endpoint and uvicorn to run the server. Prioritize clear variable naming and provide comments explaining each section of your code. Test the server to confirm it handles the GET request and returns the correct JSON response without errors.\",\n",
       "            \"context\": null\n",
       "        }\n",
       "    ],\n",
       "    \"reason\": {\n",
       "        \"title\": \"Fundamental Practice\",\n",
       "        \"content\": \"By focusing on the basic setup and operation of FastAPI, this exercise aims to strengthen foundational API development skills. The instructions and guidance are tailored to ensure the learner understands key concepts and can practically apply them.\",\n",
       "        \"confidence_score\": 0.92\n",
       "    }\n",
       "}\n",
       "```"
      ],
      "text/plain": [
       "<IPython.core.display.Markdown object>"
      ]
     },
     "metadata": {},
     "output_type": "display_data"
    },
    {
     "data": {
      "text/markdown": [
       "```json\n",
       "{\n",
       "    \"question\": \"How do you create a FastAPI application with a single GET endpoint to return product details in JSON format?\",\n",
       "    \"evaluation_criteria\": \"Evaluate the use of FastAPI path operations, code quality, and adherence to the guidelines. The GET endpoint must correctly return a JSON object containing 'product_id' and 'name'. Assess whether the endpoint is effectively reachable and responds without errors.\",\n",
       "    \"instruct_models\": [\n",
       "        {\n",
       "            \"instruction\": \"Implement a FastAPI application with one GET endpoint at '/product'. Ensure it returns a JSON object with 'product_id' and 'name'. Use FastAPI path operations to achieve the task goal.\",\n",
       "            \"guidance\": \"Use basic FastAPI setup practices. Consider applying a Pydantic model for structure and validation, though it's not mandatory. Ensure the application is free of errors and the endpoint is accessible via client requests.\",\n",
       "            \"context\": null\n",
       "        }\n",
       "    ],\n",
       "    \"reason\": {\n",
       "        \"title\": \"FastAPI Application Development\",\n",
       "        \"content\": \"This task engages developers in setting the foundation for FastAPI applications, emphasizing the framework's core routing capabilities and JSON handling. Employing or understanding Pydantic models allows for robust response formatting. Ensuring functional endpoints encourages correct implementation practices.\",\n",
       "        \"confidence_score\": 0.95\n",
       "    }\n",
       "}\n",
       "```"
      ],
      "text/plain": [
       "<IPython.core.display.Markdown object>"
      ]
     },
     "metadata": {},
     "output_type": "display_data"
    },
    {
     "data": {
      "text/markdown": [
       "```json\n",
       "{\n",
       "    \"question\": \"How can you implement a FastAPI application with a GET endpoint at '/product' that returns a JSON object containing 'product_id' and 'name'?\",\n",
       "    \"evaluation_criteria\": \"Evaluate the proper setup and execution of basic FastAPI path operations. Ensure the endpoint returns a JSON object with 'product_id' and 'name' accurately. Test that the application runs without errors and the endpoint is accessible via client requests.\",\n",
       "    \"instruct_models\": [\n",
       "        {\n",
       "            \"instruction\": \"Create a FastAPI application featuring a single GET endpoint at '/product'. Structure the endpoint to return a JSON object with keys 'product_id' and 'name'. Utilize basic FastAPI path operations to complete this task.\",\n",
       "            \"guidance\": \"Follow best practices for FastAPI setup. Optionally, use a Pydantic model for response structure and validation. Focus on ensuring the application is error-free and that the endpoint can be accessed by client requests.\",\n",
       "            \"context\": null\n",
       "        }\n",
       "    ],\n",
       "    \"reason\": {\n",
       "        \"title\": \"Simple FastAPI Application Design\",\n",
       "        \"content\": \"This task centerpiece is around constructing basic FastAPI functionality, encouraging familiarity with routing and JSON responses. Applying a Pydantic model is advisable for added structure and validation, fostering a robust API definition. Ensuring operational endpoints verifies proper implementation and comprehension.\",\n",
       "        \"confidence_score\": 0.95\n",
       "    }\n",
       "}\n",
       "```"
      ],
      "text/plain": [
       "<IPython.core.display.Markdown object>"
      ]
     },
     "metadata": {},
     "output_type": "display_data"
    }
   ],
   "source": [
    "for i in result.brainstorm:\n",
    "    display(Markdown(as_readable(i, md=True)))"
   ]
  },
  {
   "cell_type": "code",
   "execution_count": 8,
   "metadata": {},
   "outputs": [
    {
     "data": {
      "text/markdown": [
       "```json\n",
       "{\n",
       "    \"instruction\": \"Create a FastAPI application featuring a single GET endpoint at '/product'. Structure the endpoint to return a JSON object with keys 'product_id' and 'name'. Utilize basic FastAPI path operations to complete this task.\",\n",
       "    \"guidance\": \"Follow best practices for FastAPI setup. Optionally, use a Pydantic model for response structure and validation. Focus on ensuring the application is error-free and that the endpoint can be accessed by client requests.\",\n",
       "    \"context\": null\n",
       "}\n",
       "```"
      ],
      "text/plain": [
       "<IPython.core.display.Markdown object>"
      ]
     },
     "metadata": {},
     "output_type": "display_data"
    },
    {
     "data": {
      "text/markdown": [
       "To create a FastAPI application with a single GET endpoint at '/product', follow these steps:\n",
       "\n",
       "1. **Install FastAPI and Uvicorn**: If you haven't already, ensure you have FastAPI and Uvicorn installed. You can install them using pip:\n",
       "\n",
       "   ```bash\n",
       "   pip install fastapi uvicorn\n",
       "   ```\n",
       "\n",
       "2. **Create the FastAPI Application File**: Create a Python file, for example, `app.py`, with the following content:\n",
       "\n",
       "   ```python\n",
       "   from fastapi import FastAPI\n",
       "   from pydantic import BaseModel\n",
       "\n",
       "   app = FastAPI()\n",
       "\n",
       "   class Product(BaseModel):\n",
       "       product_id: int\n",
       "       name: str\n",
       "\n",
       "   @app.get(\"/product\", response_model=Product)\n",
       "   def get_product():\n",
       "       return {\"product_id\": 1, \"name\": \"Sample Product\"}\n",
       "\n",
       "   if __name__ == \"__main__\":\n",
       "       import uvicorn\n",
       "       uvicorn.run(app, host=\"127.0.0.1\", port=8000)\n",
       "   ```\n",
       "\n",
       "   Here's what's happening in the code:\n",
       "   - We import `FastAPI` and `BaseModel` from Pydantic for data validation.\n",
       "   - We define a Pydantic model `Product` to describe the structure of our response JSON.\n",
       "   - We create an instance of `FastAPI`.\n",
       "   - We define a GET endpoint `/product` that returns a JSON object with `product_id` and `name`.\n",
       "\n",
       "3. **Run the Application**: Start the FastAPI application using Uvicorn:\n",
       "\n",
       "   ```bash\n",
       "   uvicorn app:app --reload\n",
       "   ```\n",
       "\n",
       "   This command will start a development server at `http://127.0.0.1:8000` and enable auto-reload for code changes.\n",
       "\n",
       "4. **Access the Endpoint**: Open a browser or use a tool like `curl` or Postman to access the endpoint:\n",
       "\n",
       "   ```\n",
       "   http://127.0.0.1:8000/product\n",
       "   ```\n",
       "\n",
       "   You should receive a JSON response similar to this:\n",
       "\n",
       "   ```json\n",
       "   {\n",
       "       \"product_id\": 1,\n",
       "       \"name\": \"Sample Product\"\n",
       "   }\n",
       "   ```\n",
       "\n",
       "These steps cover the basic setup of a FastAPI application with an endpoint that utilizes a Pydantic model for structured JSON response. This approach adheres to best practices for FastAPI development."
      ],
      "text/plain": [
       "<IPython.core.display.Markdown object>"
      ]
     },
     "metadata": {},
     "output_type": "display_data"
    },
    {
     "data": {
      "text/markdown": [
       "```json\n",
       "{\n",
       "    \"instruction\": \"Create a FastAPI application with a single GET endpoint that returns product details. Return a JSON with 'product_id' and 'name'. Goal is to establish basic FastAPI capabilities, ensuring the endpoint is reachable and responding as expected.\",\n",
       "    \"guidance\": \"Stick to fundamental FastAPI concepts like path operations. Consider using a Pydantic model for response consistency, if applicable. Ensure code execution is smooth, with endpoint returning JSON on client requests without errors.\",\n",
       "    \"context\": null\n",
       "}\n",
       "```"
      ],
      "text/plain": [
       "<IPython.core.display.Markdown object>"
      ]
     },
     "metadata": {},
     "output_type": "display_data"
    },
    {
     "data": {
      "text/markdown": [
       "To create a simple FastAPI application with a GET endpoint that returns product details, you'll need to follow these steps:\n",
       "\n",
       "1. **Set Up the Project:**\n",
       "   Ensure Python is installed and then install FastAPI and Uvicorn. Uvicorn is an ASGI server to run FastAPI applications.\n",
       "\n",
       "   ```sh\n",
       "   pip install fastapi[all] uvicorn\n",
       "   ```\n",
       "\n",
       "2. **Create the FastAPI Application:**\n",
       "   Open a text editor or IDE and create a new Python file, e.g., `main.py`.\n",
       "\n",
       "3. **Code Implementation:**\n",
       "   Add the following code to `main.py`, which defines the FastAPI application with a GET endpoint that returns product details in JSON format.\n",
       "\n",
       "   ```python\n",
       "   from fastapi import FastAPI\n",
       "   from pydantic import BaseModel\n",
       "\n",
       "   app = FastAPI()\n",
       "\n",
       "   class Product(BaseModel):\n",
       "       product_id: int\n",
       "       name: str\n",
       "\n",
       "   # Dummy data to simulate database response\n",
       "   product = Product(product_id=1, name=\"Sample Product\")\n",
       "\n",
       "   @app.get(\"/product\", response_model=Product)\n",
       "   async def get_product():\n",
       "       return product\n",
       "   ```\n",
       "\n",
       "4. **Run the Application:**\n",
       "   Use Uvicorn to run the FastAPI app. Open a terminal, navigate to the directory where `main.py` is located, and run the following command:\n",
       "\n",
       "   ```sh\n",
       "   uvicorn main:app --reload\n",
       "   ```\n",
       "\n",
       "   This command starts the FastAPI application, and the `--reload` option enables automatic code reloading on changes.\n",
       "\n",
       "5. **Test the Endpoint:**\n",
       "   Open a web browser or use a tool like `curl` or Postman to navigate to `http://127.0.0.1:8000/product`. You should see the JSON response with the product details:\n",
       "\n",
       "   ```json\n",
       "   {\n",
       "     \"product_id\": 1,\n",
       "     \"name\": \"Sample Product\"\n",
       "   }\n",
       "   ```\n",
       "\n",
       "This FastAPI application establishes a basic understanding of creating and interacting with a FastAPI endpoint, focusing on path operations and utilizing Pydantic for data validation and serialization."
      ],
      "text/plain": [
       "<IPython.core.display.Markdown object>"
      ]
     },
     "metadata": {},
     "output_type": "display_data"
    },
    {
     "data": {
      "text/markdown": [
       "```json\n",
       "{\n",
       "    \"instruction\": \"Create a FastAPI application. Add a single GET endpoint at '/item' that returns a JSON response with the key 'item_name' and a corresponding value of your choice. The goal is to practice the basic FastAPI framework setup and HTTP method handling.\",\n",
       "    \"guidance\": \"Utilize FastAPI for building the endpoint and uvicorn to serve the application. Emphasize using meaningful variable names and concise comments for each step. Debug and ensure there are no issues with running the server and obtaining the JSON on a GET request.\",\n",
       "    \"context\": null\n",
       "}\n",
       "```"
      ],
      "text/plain": [
       "<IPython.core.display.Markdown object>"
      ]
     },
     "metadata": {},
     "output_type": "display_data"
    },
    {
     "data": {
      "text/markdown": [
       "Certainly! Below is a simple implementation of a FastAPI application with a GET endpoint at '/item' that returns a JSON response.\n",
       "\n",
       "```python\n",
       "from fastapi import FastAPI\n",
       "import uvicorn\n",
       "\n",
       "# Create an instance of the FastAPI class\n",
       "app = FastAPI()\n",
       "\n",
       "# Define a GET endpoint at '/item'\n",
       "@app.get(\"/item\")\n",
       "async def get_item():\n",
       "    # Return a JSON response with a key-value pair\n",
       "    return {\"item_name\": \"Sample Item\"}\n",
       "\n",
       "# Entry point for running the application\n",
       "if __name__ == \"__main__\":\n",
       "    # Start the Uvicorn server on localhost:8000\n",
       "    uvicorn.run(app, host='127.0.0.1', port=8000)\n",
       "```\n",
       "\n",
       "### Key Points:\n",
       "\n",
       "- **Meaningful Variable Names**: The function `get_item` is named to reflect its purpose clearly.\n",
       "- **Concise Comments**: Comments are added to explain each part of the code without overwhelming the reader.\n",
       "- **Server Setup**: Uvicorn is used to serve the FastAPI application, with debugging capability if needed.\n",
       "\n",
       "When you run this script, you can visit `http://127.0.0.1:8000/item` in your browser or use a tool like `curl` or Postman to see the JSON response: `{\"item_name\": \"Sample Item\"}`. Make sure you have the FastAPI and Uvicorn packages installed before running the script."
      ],
      "text/plain": [
       "<IPython.core.display.Markdown object>"
      ]
     },
     "metadata": {},
     "output_type": "display_data"
    },
    {
     "data": {
      "text/markdown": [
       "```json\n",
       "{\n",
       "    \"instruction\": \"Develop a FastAPI application featuring a single GET endpoint at '/item'. Ensure it returns a JSON object containing at least one key-value pair. The objective is to demonstrate basic understanding and setup of FastAPI, including route creation and JSON response formation.\",\n",
       "    \"guidance\": \"Use FastAPI and uvicorn packages to construct and run the application. Ensure code readability and proper commenting. Focus on accurate import statements and endpoint definition. Ensure the server starts without issues and correctly serves the JSON response to a client request.\",\n",
       "    \"context\": null\n",
       "}\n",
       "```"
      ],
      "text/plain": [
       "<IPython.core.display.Markdown object>"
      ]
     },
     "metadata": {},
     "output_type": "display_data"
    },
    {
     "data": {
      "text/markdown": [
       "To develop a FastAPI application with a single GET endpoint that meets the given requirements, follow the steps below:\n",
       "\n",
       "1. **Set up your environment**: First, ensure you have Python installed, along with FastAPI and uvicorn. You can create a virtual environment and install the necessary dependencies:\n",
       "\n",
       "   ```bash\n",
       "   python -m venv fastapi-env\n",
       "   source fastapi-env/bin/activate\n",
       "   pip install fastapi uvicorn\n",
       "   ```\n",
       "\n",
       "2. **Create the FastAPI application**: You will create a new Python file, say `main.py`, where the FastAPI app will be developed.\n",
       "\n",
       "3. **Write the code**: Use the code snippet below to create a FastAPI application with the specified endpoint.\n",
       "\n",
       "   ```python\n",
       "   # main.py\n",
       "   from fastapi import FastAPI\n",
       "\n",
       "   # Instantiate the FastAPI application\n",
       "   app = FastAPI()\n",
       "\n",
       "   # Define the GET endpoint at '/item'\n",
       "   @app.get(\"/item\")\n",
       "   async def get_item():\n",
       "       # Return a JSON object with one key-value pair\n",
       "       return {\"key\": \"value\"}\n",
       "\n",
       "   ```\n",
       "\n",
       "4. **Run the application**: Use uvicorn to run the FastAPI application. The command below will start the server:\n",
       "\n",
       "   ```bash\n",
       "   uvicorn main:app --reload\n",
       "   ```\n",
       "\n",
       "   This command specifies that `main` is the name of the Python file (without the `.py`), and `app` is the FastAPI instance to run.\n",
       "\n",
       "5. **Test the endpoint**: Open a web browser and go to `http://127.0.0.1:8000/item` to test the endpoint. You should see the JSON response `{\"key\": \"value\"}`.\n",
       "\n",
       "This setup demonstrates a fundamental FastAPI application with a clear and straightforward structure, serving a JSON response via the GET endpoint."
      ],
      "text/plain": [
       "<IPython.core.display.Markdown object>"
      ]
     },
     "metadata": {},
     "output_type": "display_data"
    },
    {
     "data": {
      "text/markdown": [
       "```json\n",
       "{\n",
       "    \"instruction\": \"Set up a FastAPI application and create a GET endpoint at '/item'. Ensure it returns a JSON object containing {'item_name': 'Sample Item'} as the response. Verify the endpoint is functioning properly.\",\n",
       "    \"guidance\": \"Use FastAPI to define your endpoint and uvicorn to run the server. Prioritize clear variable naming and provide comments explaining each section of your code. Test the server to confirm it handles the GET request and returns the correct JSON response without errors.\",\n",
       "    \"context\": null\n",
       "}\n",
       "```"
      ],
      "text/plain": [
       "<IPython.core.display.Markdown object>"
      ]
     },
     "metadata": {},
     "output_type": "display_data"
    },
    {
     "data": {
      "text/markdown": [
       "To set up a FastAPI application and create a GET endpoint at '/item', you can follow these steps:\n",
       "\n",
       "1. **Install FastAPI and Uvicorn**:\n",
       "   Make sure you have FastAPI and Uvicorn installed. You can do this using pip:\n",
       "   ```bash\n",
       "   pip install fastapi uvicorn\n",
       "   ```\n",
       "\n",
       "2. **Create the FastAPI application**:\n",
       "   Create a Python script (e.g., `main.py`) with the following code:\n",
       "   ```python\n",
       "   # Import the necessary module from FastAPI\n",
       "   from fastapi import FastAPI\n",
       "   \n",
       "   # Instantiate the FastAPI app\n",
       "   app = FastAPI()\n",
       "   \n",
       "   # Define a GET endpoint at '/item'\n",
       "   # This endpoint will return a JSON object with item details\n",
       "   @app.get(\"/item\")\n",
       "   async def get_item():\n",
       "       # Define the response JSON object\n",
       "       response = {\"item_name\": \"Sample Item\"}\n",
       "       return response\n",
       "   ```\n",
       "\n",
       "3. **Run the FastAPI server using Uvicorn**:\n",
       "   You can start the server using the following command in your terminal:\n",
       "   ```bash\n",
       "   uvicorn main:app --reload\n",
       "   ```\n",
       "   - `main` refers to the Python script filename (`main.py`).\n",
       "   - `app` is the name of the FastAPI instance.\n",
       "   - `--reload` enables automatic reloading of the server when code changes are detected.\n",
       "\n",
       "4. **Test the endpoint**:\n",
       "   - Open your browser or use a tool like `curl` or Postman to visit: `http://127.0.0.1:8000/item`.\n",
       "   - You should see a JSON response: `{\"item_name\": \"Sample Item\"}`.\n",
       "\n",
       "This setup ensures the FastAPI application is correctly handling GET requests at the '/item' endpoint and returning the expected JSON response. Make sure each part of your code is clearly commented to enhance understandability."
      ],
      "text/plain": [
       "<IPython.core.display.Markdown object>"
      ]
     },
     "metadata": {},
     "output_type": "display_data"
    },
    {
     "data": {
      "text/markdown": [
       "```json\n",
       "{\n",
       "    \"instruction\": \"Implement a FastAPI application with one GET endpoint at '/product'. Ensure it returns a JSON object with 'product_id' and 'name'. Use FastAPI path operations to achieve the task goal.\",\n",
       "    \"guidance\": \"Use basic FastAPI setup practices. Consider applying a Pydantic model for structure and validation, though it's not mandatory. Ensure the application is free of errors and the endpoint is accessible via client requests.\",\n",
       "    \"context\": null\n",
       "}\n",
       "```"
      ],
      "text/plain": [
       "<IPython.core.display.Markdown object>"
      ]
     },
     "metadata": {},
     "output_type": "display_data"
    },
    {
     "data": {
      "text/markdown": [
       "To implement a FastAPI application with the specified requirements, follow the steps below:\n",
       "\n",
       "1. **Install FastAPI and Uvicorn**: Ensure you have FastAPI and Uvicorn installed. You can do this using pip.\n",
       "   ```bash\n",
       "   pip install fastapi uvicorn\n",
       "   ```\n",
       "\n",
       "2. **Create the FastAPI Application**: Create a new Python file, e.g., `main.py`, and include the necessary FastAPI setup.\n",
       "\n",
       "Here's a basic implementation:\n",
       "\n",
       "```python\n",
       "from fastapi import FastAPI\n",
       "from pydantic import BaseModel\n",
       "\n",
       "# Define a Pydantic model for structured responses\n",
       "class Product(BaseModel):\n",
       "    product_id: int\n",
       "    name: str\n",
       "\n",
       "app = FastAPI()\n",
       "\n",
       "@app.get(\"/product\", response_model=Product)\n",
       "async def get_product():\n",
       "    # Sample data to return\n",
       "    product_data = {\n",
       "        \"product_id\": 1,\n",
       "        \"name\": \"Sample Product\"\n",
       "    }\n",
       "    return product_data\n",
       "\n",
       "# Note: To run the FastAPI app, the command below can be used on the terminal:\n",
       "# uvicorn main:app --reload\n",
       "```\n",
       "\n",
       "### Explanation:\n",
       "\n",
       "- **FastAPI Instance Creation**: We create an instance of FastAPI called `app` to configure our project.\n",
       "- **Product Pydantic Model**: The `Product` model is defined using Pydantic to structure the JSON response, specifying `product_id` and `name` as the keys.\n",
       "- **Define Endpoint**: The `/product` endpoint is created using `@app.get()`, indicating it’s a GET request. We specify `response_model=Product` to ensure the response conforms to the `Product` structure.\n",
       "- **Function Implementation**: In the `get_product()` function, a sample product data dictionary is created and returned, which matches the structure of the `Product` model.\n",
       "- **Running the App**: To run the application and test the endpoint, use the Uvicorn command in the terminal provided in the comment within the code.\n",
       "\n",
       "This setup ensures that the application aligns with best practices and leverages FastAPI’s features for validation and structured response."
      ],
      "text/plain": [
       "<IPython.core.display.Markdown object>"
      ]
     },
     "metadata": {},
     "output_type": "display_data"
    }
   ],
   "source": [
    "for i in result.explore:\n",
    "    display(Markdown(as_readable(i.instruct, md=True)))\n",
    "    display(Markdown(i.response))"
   ]
  },
  {
   "cell_type": "code",
   "execution_count": null,
   "metadata": {},
   "outputs": [],
   "source": []
  }
 ],
 "metadata": {
  "kernelspec": {
   "display_name": ".venv",
   "language": "python",
   "name": "python3"
  },
  "language_info": {
   "codemirror_mode": {
    "name": "ipython",
    "version": 3
   },
   "file_extension": ".py",
   "mimetype": "text/x-python",
   "name": "python",
   "nbconvert_exporter": "python",
   "pygments_lexer": "ipython3",
   "version": "3.12.8"
  }
 },
 "nbformat": 4,
 "nbformat_minor": 2
}
