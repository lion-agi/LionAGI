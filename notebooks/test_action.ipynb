{
 "cells": [
  {
   "cell_type": "code",
   "execution_count": 1,
   "metadata": {},
   "outputs": [],
   "source": [
    "from lionagi import Branch, iModel"
   ]
  },
  {
   "cell_type": "code",
   "execution_count": 2,
   "metadata": {},
   "outputs": [],
   "source": [
    "from pydantic import BaseModel\n",
    "\n",
    "llama33 = iModel(\n",
    "    provider=\"groq\",\n",
    "    model=\"llama-3.3-70b-versatile\",\n",
    ")\n",
    "\n",
    "gpt4o = iModel(\n",
    "    provider=\"openai\",\n",
    "    model=\"gpt-4o-mini\",\n",
    ")\n",
    "\n",
    "\n",
    "class Test(BaseModel):\n",
    "    \"\"\"\n",
    "    Test model\n",
    "    \"\"\"\n",
    "\n",
    "    comments: str\n",
    "\n",
    "\n",
    "async def test_func(query: str):\n",
    "    \"\"\"\n",
    "    this is a test function it will return the query as it is\n",
    "\n",
    "    Args:\n",
    "        query: str: query to be returned\n",
    "\n",
    "    Returns:\n",
    "        str: query as it is\n",
    "    \"\"\"\n",
    "    return query\n",
    "\n",
    "\n",
    "french = Branch(\n",
    "    imodel=llama33,\n",
    "    tools=test_func,\n",
    ")"
   ]
  },
  {
   "cell_type": "code",
   "execution_count": 3,
   "metadata": {},
   "outputs": [],
   "source": [
    "result = await french.operate(\n",
    "    instruction=\"hello? you should test the test_func with a sample queries\",\n",
    "    operative_model=Test,\n",
    "    actions=True,\n",
    ")"
   ]
  },
  {
   "cell_type": "code",
   "execution_count": 4,
   "metadata": {},
   "outputs": [
    {
     "data": {
      "text/plain": [
       "Test(comments='Testing the test_func with a sample query')"
      ]
     },
     "execution_count": 4,
     "metadata": {},
     "output_type": "execute_result"
    }
   ],
   "source": [
    "result"
   ]
  },
  {
   "cell_type": "code",
   "execution_count": 5,
   "metadata": {},
   "outputs": [
    {
     "data": {
      "text/plain": [
       "True"
      ]
     },
     "execution_count": 5,
     "metadata": {},
     "output_type": "execute_result"
    }
   ],
   "source": [
    "french.imodel.sequential_exchange"
   ]
  },
  {
   "cell_type": "code",
   "execution_count": 6,
   "metadata": {},
   "outputs": [
    {
     "data": {
      "text/html": [
       "<div>\n",
       "<style scoped>\n",
       "    .dataframe tbody tr th:only-of-type {\n",
       "        vertical-align: middle;\n",
       "    }\n",
       "\n",
       "    .dataframe tbody tr th {\n",
       "        vertical-align: top;\n",
       "    }\n",
       "\n",
       "    .dataframe thead th {\n",
       "        text-align: right;\n",
       "    }\n",
       "</style>\n",
       "<table border=\"1\" class=\"dataframe\">\n",
       "  <thead>\n",
       "    <tr style=\"text-align: right;\">\n",
       "      <th></th>\n",
       "      <th>timestamp</th>\n",
       "      <th>lion_class</th>\n",
       "      <th>role</th>\n",
       "      <th>content</th>\n",
       "      <th>id</th>\n",
       "      <th>sender</th>\n",
       "      <th>recipient</th>\n",
       "      <th>metadata</th>\n",
       "    </tr>\n",
       "  </thead>\n",
       "  <tbody>\n",
       "    <tr>\n",
       "      <th>0</th>\n",
       "      <td>2024-12-25 05:06:07.973422+00:00</td>\n",
       "      <td>Instruction</td>\n",
       "      <td>user</td>\n",
       "      <td>{'context': [{'respond_schema_info': {'$defs':...</td>\n",
       "      <td>8a65911c-a909-49b0-8bc8-10baf041751a</td>\n",
       "      <td>user</td>\n",
       "      <td>14132072-3812-4b58-ac53-065b37a19b75</td>\n",
       "      <td>{'last_updated': {'context': 1735103168.417341}}</td>\n",
       "    </tr>\n",
       "    <tr>\n",
       "      <th>1</th>\n",
       "      <td>2024-12-25 05:06:08.417155+00:00</td>\n",
       "      <td>AssistantResponse</td>\n",
       "      <td>assistant</td>\n",
       "      <td>{'assistant_response': '```json\n",
       "{\n",
       "  \"comments\"...</td>\n",
       "      <td>ddb5279b-81d3-498b-ae9e-bb45eedbce8d</td>\n",
       "      <td>14132072-3812-4b58-ac53-065b37a19b75</td>\n",
       "      <td>N/A</td>\n",
       "      <td>{'model_response': {'choices': [{'index': 0, '...</td>\n",
       "    </tr>\n",
       "    <tr>\n",
       "      <th>2</th>\n",
       "      <td>2024-12-25 05:06:08.418792+00:00</td>\n",
       "      <td>ActionRequest</td>\n",
       "      <td>assistant</td>\n",
       "      <td>{'action_request': {'function': 'test_func', '...</td>\n",
       "      <td>9f2601af-88f2-4f69-8f69-44753469d3c0</td>\n",
       "      <td>14132072-3812-4b58-ac53-065b37a19b75</td>\n",
       "      <td>0f7df12b-e07c-4c01-a52f-9a892ce0564d</td>\n",
       "      <td>{}</td>\n",
       "    </tr>\n",
       "    <tr>\n",
       "      <th>3</th>\n",
       "      <td>2024-12-25 05:06:08.418938+00:00</td>\n",
       "      <td>ActionResponse</td>\n",
       "      <td>assistant</td>\n",
       "      <td>{'action_request_id': 9f2601af-88f2-4f69-8f69-...</td>\n",
       "      <td>cff04174-d7df-4c8d-a66a-8a3fc877ba2b</td>\n",
       "      <td>0f7df12b-e07c-4c01-a52f-9a892ce0564d</td>\n",
       "      <td>14132072-3812-4b58-ac53-065b37a19b75</td>\n",
       "      <td>{}</td>\n",
       "    </tr>\n",
       "  </tbody>\n",
       "</table>\n",
       "</div>"
      ],
      "text/plain": [
       "                         timestamp         lion_class       role  \\\n",
       "0 2024-12-25 05:06:07.973422+00:00        Instruction       user   \n",
       "1 2024-12-25 05:06:08.417155+00:00  AssistantResponse  assistant   \n",
       "2 2024-12-25 05:06:08.418792+00:00      ActionRequest  assistant   \n",
       "3 2024-12-25 05:06:08.418938+00:00     ActionResponse  assistant   \n",
       "\n",
       "                                             content  \\\n",
       "0  {'context': [{'respond_schema_info': {'$defs':...   \n",
       "1  {'assistant_response': '```json\n",
       "{\n",
       "  \"comments\"...   \n",
       "2  {'action_request': {'function': 'test_func', '...   \n",
       "3  {'action_request_id': 9f2601af-88f2-4f69-8f69-...   \n",
       "\n",
       "                                  id                                sender  \\\n",
       "0  8a65911c-a909-49b0-8bc8-10baf041751a                                  user   \n",
       "1  ddb5279b-81d3-498b-ae9e-bb45eedbce8d  14132072-3812-4b58-ac53-065b37a19b75   \n",
       "2  9f2601af-88f2-4f69-8f69-44753469d3c0  14132072-3812-4b58-ac53-065b37a19b75   \n",
       "3  cff04174-d7df-4c8d-a66a-8a3fc877ba2b  0f7df12b-e07c-4c01-a52f-9a892ce0564d   \n",
       "\n",
       "                              recipient  \\\n",
       "0  14132072-3812-4b58-ac53-065b37a19b75   \n",
       "1                                   N/A   \n",
       "2  0f7df12b-e07c-4c01-a52f-9a892ce0564d   \n",
       "3  14132072-3812-4b58-ac53-065b37a19b75   \n",
       "\n",
       "                                            metadata  \n",
       "0   {'last_updated': {'context': 1735103168.417341}}  \n",
       "1  {'model_response': {'choices': [{'index': 0, '...  \n",
       "2                                                 {}  \n",
       "3                                                 {}  "
      ]
     },
     "execution_count": 6,
     "metadata": {},
     "output_type": "execute_result"
    }
   ],
   "source": [
    "french.to_df()"
   ]
  },
  {
   "cell_type": "code",
   "execution_count": 7,
   "metadata": {},
   "outputs": [
    {
     "data": {
      "text/plain": [
       "{'choices': [{'index': 0,\n",
       "   'message': {'role': 'assistant',\n",
       "    'content': '```json\\n{\\n  \"comments\": \"Testing the test_func with a sample query\",\\n  \"action_requests\": [\\n    {\\n      \"function\": \"test_func\",\\n      \"arguments\": {\\n        \"query\": \"This is a sample query\"\\n      }\\n    }\\n  ],\\n  \"action_required\": true\\n}\\n```'},\n",
       "   'logprobs': None,\n",
       "   'finish_reason': 'stop'}],\n",
       " 'model': 'llama-3.3-70b-versatile',\n",
       " 'usage': {'queue_time': 0.000735520999999989,\n",
       "  'prompt_tokens': 608,\n",
       "  'prompt_time': 0.064599073,\n",
       "  'completion_tokens': 66,\n",
       "  'completion_time': 0.24,\n",
       "  'total_tokens': 674,\n",
       "  'total_time': 0.304599073}}"
      ]
     },
     "execution_count": 7,
     "metadata": {},
     "output_type": "execute_result"
    }
   ],
   "source": [
    "french.msgs.last_response.model_response"
   ]
  },
  {
   "cell_type": "code",
   "execution_count": 8,
   "metadata": {},
   "outputs": [],
   "source": [
    "a = french.msgs.instructions[0]"
   ]
  },
  {
   "cell_type": "code",
   "execution_count": 10,
   "metadata": {},
   "outputs": [
    {
     "data": {
      "text/plain": [
       "Instruction(id=IDType(8a65911c-a909-49b0-8bc8-10baf041751a), created_timestamp=2024-12-25 05:06:07.973422, content={'context': [{'respond_schema_info': {'$defs': {'ActionRequestModel': {'properties': {'function':..., metadata={'last_updated': {'context': 1735103168.417341}}, created_timestamp=1735103167.973422, sender=user, recipient=14132072-3812-4b58-ac53-065b37a19b75, role=user, extra_fields={})"
      ]
     },
     "execution_count": 10,
     "metadata": {},
     "output_type": "execute_result"
    }
   ],
   "source": [
    "a"
   ]
  },
  {
   "cell_type": "code",
   "execution_count": 11,
   "metadata": {},
   "outputs": [
    {
     "data": {
      "text/plain": [
       "{'tools': [{'type': 'function',\n",
       "   'function': {'name': 'test_func',\n",
       "    'description': 'this is a test function it will return the query as it is',\n",
       "    'parameters': {'type': 'object',\n",
       "     'properties': {'query': {'type': 'string',\n",
       "       'description': 'str: query to be returned'}},\n",
       "     'required': ['query']}}}]}"
      ]
     },
     "execution_count": 11,
     "metadata": {},
     "output_type": "execute_result"
    }
   ],
   "source": [
    "french.msgs.instructions[0].tool_schemas"
   ]
  },
  {
   "cell_type": "code",
   "execution_count": 12,
   "metadata": {},
   "outputs": [
    {
     "data": {
      "text/markdown": [
       "\n",
       "---\n",
       " # Task\n",
       "## **Task context**\n",
       "- respond_schema_info: {'$defs': {'ActionRequestModel': {'properties': {'function': {'anyOf': [{'type': 'string'}, {'type': 'null'}], 'default': None, 'description': \"Name of the function to call from the provided `tool_schemas`. If no `tool_schemas` exist, set to None or leave blank. Never invent new function names outside what's given.\", 'examples': ['add', 'multiply', 'divide'], 'title': 'Function'}, 'arguments': {'anyOf': [{'type': 'object'}, {'type': 'null'}], 'description': 'Dictionary of arguments for the chosen function. Use only argument names/types defined in `tool_schemas`. Never introduce extra argument names.', 'examples': [{'num1': 1, 'num2': 2}, {'x': 'hello', 'y': 'world'}], 'title': 'Action Arguments'}}, 'title': 'ActionRequestModel', 'type': 'object'}}, 'properties': {'comments': {'title': 'Comments', 'type': 'string'}, 'action_requests': {'description': 'List of actions to be executed when `action_required` is true. Each action must align with the available `tool_schemas`. Leave empty if no actions are needed.', 'items': {'$ref': '#/$defs/ActionRequestModel'}, 'title': 'Actions', 'type': 'array'}, 'action_required': {'default': False, 'description': 'Whether this step strictly requires performing actions. If true, the requests in `action_requests` must be fulfilled, assuming `tool_schemas` are available. If false or no `tool_schemas` exist, actions are optional.', 'title': 'Action Required', 'type': 'boolean'}}, 'required': ['comments'], 'title': 'Test', 'type': 'object'} \n",
       "\n",
       "\n",
       "\n",
       "## **Task instruction**\n",
       "hello? you should test the test_func with a sample queries\n",
       "\n",
       "\n",
       "## **Task tool_schemas**\n",
       "- tools: [{'type': 'function', 'function': {'name': 'test_func', 'description': 'this is a test function it will return the query as it is', 'parameters': {'type': 'object', 'properties': {'query': {'type': 'string', 'description': 'str: query to be returned'}}, 'required': ['query']}}}] \n",
       "\n",
       "\n",
       "\n",
       "## **Task response format**\n",
       "**MUST RETURN JSON-PARSEABLE RESPONSE ENCLOSED BY JSON CODE BLOCKS.** \n",
       "```json\n",
       "{'comments': <class 'str'>, 'action_requests': [{'function': str | None, 'arguments': dict[str, typing.Any] | None}], 'action_required': <class 'bool'>}\n",
       "```\n",
       "\n",
       "\n",
       "\n",
       "\n",
       "---\n"
      ],
      "text/plain": [
       "<IPython.core.display.Markdown object>"
      ]
     },
     "execution_count": 12,
     "metadata": {},
     "output_type": "execute_result"
    }
   ],
   "source": [
    "from IPython.display import Markdown\n",
    "\n",
    "Markdown(french.msgs.instructions[0].chat_msg[\"content\"])"
   ]
  },
  {
   "cell_type": "code",
   "execution_count": null,
   "metadata": {},
   "outputs": [],
   "source": []
  }
 ],
 "metadata": {
  "kernelspec": {
   "display_name": ".venv",
   "language": "python",
   "name": "python3"
  },
  "language_info": {
   "codemirror_mode": {
    "name": "ipython",
    "version": 3
   },
   "file_extension": ".py",
   "mimetype": "text/x-python",
   "name": "python",
   "nbconvert_exporter": "python",
   "pygments_lexer": "ipython3",
   "version": "3.12.8"
  }
 },
 "nbformat": 4,
 "nbformat_minor": 2
}
